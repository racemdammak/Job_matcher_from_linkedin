{
 "cells": [
  {
   "cell_type": "markdown",
   "id": "58504a84",
   "metadata": {},
   "source": [
    "HOLA YASMINE ! espero que eres muy bien y feliz,\n",
    "puedes testar (mana3rfch l verbe tester bl espagnol xD) el scraping del linkedin aqui! y gracias :)"
   ]
  },
  {
   "cell_type": "code",
   "execution_count": 3,
   "id": "209797b4",
   "metadata": {},
   "outputs": [],
   "source": [
    "import requests\n",
    "import pandas as pd\n",
    "from bs4 import BeautifulSoup"
   ]
  },
  {
   "cell_type": "code",
   "execution_count": 4,
   "id": "2a079162",
   "metadata": {},
   "outputs": [],
   "source": [
    "title = \"Machine Learning engineer\"\n",
    "location = \"tunisia\"\n",
    "start = 0"
   ]
  },
  {
   "cell_type": "code",
   "execution_count": 5,
   "id": "2a1a33bb",
   "metadata": {},
   "outputs": [
    {
     "data": {
      "text/plain": [
       "200"
      ]
     },
     "execution_count": 5,
     "metadata": {},
     "output_type": "execute_result"
    }
   ],
   "source": [
    "list_url = f\"https://www.linkedin.com/jobs-guest/jobs/api/seeMoreJobPostings/search?keywords={title}&location={location}&start={start}\"\n",
    "response = requests.get(list_url)\n",
    "response.status_code"
   ]
  },
  {
   "cell_type": "code",
   "execution_count": 6,
   "id": "61af646d",
   "metadata": {},
   "outputs": [],
   "source": [
    "list_data = response.text\n",
    "list_soup = BeautifulSoup(list_data, \"html.parser\")\n",
    "page_jobs = list_soup.find_all(\"li\")"
   ]
  },
  {
   "cell_type": "code",
   "execution_count": 7,
   "id": "9ca9e028",
   "metadata": {},
   "outputs": [],
   "source": [
    "id_list = []"
   ]
  },
  {
   "cell_type": "code",
   "execution_count": 8,
   "id": "22d888c7",
   "metadata": {},
   "outputs": [
    {
     "name": "stdout",
     "output_type": "stream",
     "text": [
      "4302718454\n",
      "4303460721\n",
      "4292022486\n",
      "4292525986\n",
      "4306471374\n",
      "4306533104\n",
      "4303021539\n",
      "4292412676\n",
      "4301509645\n",
      "4292772554\n"
     ]
    }
   ],
   "source": [
    "#Itetrate through job postings to find job ids\n",
    "for job in page_jobs:\n",
    "    base_card_div = job.find(\"div\", {\"class\": \"base-card\"})\n",
    "    job_id = base_card_div.get(\"data-entity-urn\").split(\":\")[3]\n",
    "    print(job_id)\n",
    "    id_list.append(job_id)\n",
    "    "
   ]
  },
  {
   "cell_type": "code",
   "execution_count": null,
   "id": "c24efe2f",
   "metadata": {},
   "outputs": [
    {
     "name": "stdout",
     "output_type": "stream",
     "text": [
      "200\n",
      "200\n",
      "200\n",
      "200\n",
      "200\n",
      "200\n",
      "200\n",
      "200\n",
      "200\n",
      "200\n",
      "Your tasksDevelopment and customization of ERP solutions in ProALPHA using Progress ABLMaintenance and optimization of existing ERP modulesWriting technical documentation and ensuring software quality (testing, debugging)Collaborating with project managers and customers, providing estimates and feedbackCreating scalable and reliable software components based on technical conceptsYour profileDegree in Computer Science, Systems Engineering or similar qualification (BAC+5 is a plus)1–2 years of professional experience in software development (Java, C#, Python, or similar)Strong problem-solving and analytical skills, with motivation to learn Progress ABL quicklyVery good English skills (B2/C1)Team player with adaptability, communication skills, and sense of responsibilityKnowledge of ERP systems (MS Dynamics, SAP, ProALPHA) or business processes (logistics, production, warehouse) is an advantageYour BenefitsAttractive salary and full benefits packageMeal vouchers, private health insuranceCareer growth in a stable, future-focused industryInternational working environment with exposure to ERP projectsContinuous learning and growth in ERP and Progress ABL technologiesYour future with usAs a German, family-run company with more than 300 employees worldwide, we support medium-sized companies on the path to digital transformation. With our innovative software solutions in the areas of warehouse logistics, production and field service management, we digitalize processes - making them simple, flexible and mobile!In short: Industry 4.0 is exactly our thing.Would you like to become part of L-mobile?We focus on your individual goals and strengths and develop you both personally and professionally.If you want to play an active role in shaping the future of L-mobile, we look forward to receiving your application!Apply nowContactWe look forward to receiving your detailed application in English, stating your salary expectations and possible starting date.Your contact person:Ibtissem KaafarL-mobile tunisia S.a.r.LAv. du Dr. Mohamed Souissi8075 Dar Chaabane Al Fehri (Tunisia)jobs@l-mobile.com     Connect with me on LinkedInFurther information about us you will find on:\n"
     ]
    }
   ],
   "source": [
    "# Initialize an empty list to store job information\n",
    "job_list = []\n",
    "\n",
    "# Loop through the list of job IDs and get each URL\n",
    "for job_id in id_list:\n",
    "    # Construct the URL for each job using the job ID\n",
    "    job_url = f\"https://www.linkedin.com/jobs-guest/jobs/api/jobPosting/{job_id}\"\n",
    "\n",
    "    job_response = requests.get(job_url)\n",
    "    print(job_response.status_code)\n",
    "    job_soup = BeautifulSoup(job_response.text, \"html.parser\")\n",
    "    \n",
    "     # Create a dictionary to store job details\n",
    "    job_post = {}\n",
    "\n",
    "    "
   ]
  },
  {
   "cell_type": "code",
   "execution_count": null,
   "id": "0a551b04",
   "metadata": {},
   "outputs": [
    {
     "name": "stdout",
     "output_type": "stream",
     "text": [
      "200\n",
      "200\n",
      "200\n",
      "200\n",
      "200\n",
      "200\n",
      "200\n",
      "200\n",
      "200\n",
      "200\n"
     ]
    }
   ],
   "source": [
    "job_list = []\n",
    "\n",
    "for job_id in id_list:\n",
    "    job_url = f\"https://www.linkedin.com/jobs-guest/jobs/api/jobPosting/{job_id}\"\n",
    "    \n",
    "    job_response = requests.get(job_url)\n",
    "    print(job_response.status_code)\n",
    "    job_soup = BeautifulSoup(job_response.text, \"html.parser\")\n",
    "    \n",
    "    job_post = {}\n",
    "    \n",
    "    try:\n",
    "        job_post[\"job_title\"] = job_soup.find(\"h2\", {\"class\":\"top-card-layout__title font-sans text-lg papabear:text-xl font-bold leading-open text-color-text mb-0 topcard__title\"}).text.strip()\n",
    "    except:\n",
    "        job_post[\"job_title\"] = None\n",
    "        \n",
    "    try:\n",
    "        job_post[\"company_name\"] = job_soup.find(\"a\", {\"class\": \"topcard__org-name-link topcard__flavor--black-link\"}).text.strip()\n",
    "    except:\n",
    "        job_post[\"company_name\"] = None\n",
    "\n",
    "    try:\n",
    "        job_post[\"job_description\"] = job_soup.find(\"div\", {\"class\": \"show-more-less-html__markup show-more-less-html__markup--clamp-after-5 relative overflow-hidden\"}).text.strip()\n",
    "    except:\n",
    "        job_post[\"job_description\"] = None\n",
    "\n",
    "    try:\n",
    "        job_post[\"time_posted\"] = job_soup.find(\"span\", {\"class\": \"posted-time-ago__text topcard__flavor--metadata\"}).text.strip()\n",
    "    except:\n",
    "        job_post[\"time_posted\"] = None\n",
    "\n",
    "    try:\n",
    "        job_post[\"num_applicants\"] = job_soup.find(\"span\", {\"class\": \"num-applicants__caption topcard__flavor--metadata topcard__flavor--bullet\"}).text.strip()\n",
    "    except:\n",
    "        job_post[\"num_applicants\"] = None\n",
    "    \n",
    "        \n",
    "    # Append the job details to the job_list\n",
    "    job_list.append(job_post)\n",
    "    \n",
    "    "
   ]
  },
  {
   "cell_type": "code",
   "execution_count": 10,
   "id": "4ac5bfdc",
   "metadata": {},
   "outputs": [
    {
     "data": {
      "text/plain": [
       "{'job_title': 'Software Engineer (m/f/d)',\n",
       " 'company_name': 'L-mobile',\n",
       " 'job_description': None,\n",
       " 'time_posted': '1 month ago',\n",
       " 'num_applicants': '178 applicants'}"
      ]
     },
     "execution_count": 10,
     "metadata": {},
     "output_type": "execute_result"
    }
   ],
   "source": [
    "job_post"
   ]
  },
  {
   "cell_type": "code",
   "execution_count": 19,
   "id": "9a072a33",
   "metadata": {},
   "outputs": [
    {
     "data": {
      "text/html": [
       "<div>\n",
       "<style scoped>\n",
       "    .dataframe tbody tr th:only-of-type {\n",
       "        vertical-align: middle;\n",
       "    }\n",
       "\n",
       "    .dataframe tbody tr th {\n",
       "        vertical-align: top;\n",
       "    }\n",
       "\n",
       "    .dataframe thead th {\n",
       "        text-align: right;\n",
       "    }\n",
       "</style>\n",
       "<table border=\"1\" class=\"dataframe\">\n",
       "  <thead>\n",
       "    <tr style=\"text-align: right;\">\n",
       "      <th></th>\n",
       "      <th>job_title</th>\n",
       "      <th>company_name</th>\n",
       "      <th>time_posted</th>\n",
       "      <th>num_applicants</th>\n",
       "    </tr>\n",
       "  </thead>\n",
       "  <tbody>\n",
       "    <tr>\n",
       "      <th>0</th>\n",
       "      <td>AI Software Engineer</td>\n",
       "      <td>Medius</td>\n",
       "      <td>1 week ago</td>\n",
       "      <td>None</td>\n",
       "    </tr>\n",
       "    <tr>\n",
       "      <th>1</th>\n",
       "      <td>Data Scientist - [F/M/X]</td>\n",
       "      <td>Mantu</td>\n",
       "      <td>1 week ago</td>\n",
       "      <td>None</td>\n",
       "    </tr>\n",
       "    <tr>\n",
       "      <th>2</th>\n",
       "      <td>Data Scientist</td>\n",
       "      <td>Yassir</td>\n",
       "      <td>1 month ago</td>\n",
       "      <td>None</td>\n",
       "    </tr>\n",
       "    <tr>\n",
       "      <th>3</th>\n",
       "      <td>Fully Remote Software Engineer - Tunisia</td>\n",
       "      <td>Everything To Gain</td>\n",
       "      <td>1 month ago</td>\n",
       "      <td>None</td>\n",
       "    </tr>\n",
       "    <tr>\n",
       "      <th>4</th>\n",
       "      <td>Data Scientist Alternance</td>\n",
       "      <td>Faurecia</td>\n",
       "      <td>6 days ago</td>\n",
       "      <td>None</td>\n",
       "    </tr>\n",
       "    <tr>\n",
       "      <th>5</th>\n",
       "      <td>Machine Learning Operations Engineer</td>\n",
       "      <td>DigeHealth</td>\n",
       "      <td>1 day ago</td>\n",
       "      <td>None</td>\n",
       "    </tr>\n",
       "    <tr>\n",
       "      <th>6</th>\n",
       "      <td>Data Scientist Manager.</td>\n",
       "      <td>PwC Tunisia</td>\n",
       "      <td>1 week ago</td>\n",
       "      <td>None</td>\n",
       "    </tr>\n",
       "    <tr>\n",
       "      <th>7</th>\n",
       "      <td>Software Engineer – GenAI &amp; Automation</td>\n",
       "      <td>Medius</td>\n",
       "      <td>2 months ago</td>\n",
       "      <td>97 applicants</td>\n",
       "    </tr>\n",
       "    <tr>\n",
       "      <th>8</th>\n",
       "      <td>Software Engineer - Remote</td>\n",
       "      <td>The Flex</td>\n",
       "      <td>2 weeks ago</td>\n",
       "      <td>None</td>\n",
       "    </tr>\n",
       "    <tr>\n",
       "      <th>9</th>\n",
       "      <td>Software Engineer (m/f/d)</td>\n",
       "      <td>L-mobile</td>\n",
       "      <td>1 month ago</td>\n",
       "      <td>178 applicants</td>\n",
       "    </tr>\n",
       "  </tbody>\n",
       "</table>\n",
       "</div>"
      ],
      "text/plain": [
       "                                  job_title        company_name   time_posted  \\\n",
       "0                      AI Software Engineer              Medius    1 week ago   \n",
       "1                  Data Scientist - [F/M/X]               Mantu    1 week ago   \n",
       "2                            Data Scientist              Yassir   1 month ago   \n",
       "3  Fully Remote Software Engineer - Tunisia  Everything To Gain   1 month ago   \n",
       "4                 Data Scientist Alternance            Faurecia    6 days ago   \n",
       "5      Machine Learning Operations Engineer          DigeHealth     1 day ago   \n",
       "6                   Data Scientist Manager.         PwC Tunisia    1 week ago   \n",
       "7    Software Engineer – GenAI & Automation              Medius  2 months ago   \n",
       "8                Software Engineer - Remote            The Flex   2 weeks ago   \n",
       "9                 Software Engineer (m/f/d)            L-mobile   1 month ago   \n",
       "\n",
       "   num_applicants  \n",
       "0            None  \n",
       "1            None  \n",
       "2            None  \n",
       "3            None  \n",
       "4            None  \n",
       "5            None  \n",
       "6            None  \n",
       "7   97 applicants  \n",
       "8            None  \n",
       "9  178 applicants  "
      ]
     },
     "execution_count": 19,
     "metadata": {},
     "output_type": "execute_result"
    }
   ],
   "source": [
    "# Create a pandas DataFrame using the list of job dictionaries 'job_list'\n",
    "jobs_df = pd.DataFrame(job_list)\n",
    "jobs_df"
   ]
  }
 ],
 "metadata": {
  "kernelspec": {
   "display_name": "env",
   "language": "python",
   "name": "python3"
  },
  "language_info": {
   "codemirror_mode": {
    "name": "ipython",
    "version": 3
   },
   "file_extension": ".py",
   "mimetype": "text/x-python",
   "name": "python",
   "nbconvert_exporter": "python",
   "pygments_lexer": "ipython3",
   "version": "3.13.1"
  }
 },
 "nbformat": 4,
 "nbformat_minor": 5
}
